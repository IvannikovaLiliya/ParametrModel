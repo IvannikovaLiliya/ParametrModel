{
 "cells": [
  {
   "cell_type": "markdown",
   "metadata": {},
   "source": [
    "# model of claster"
   ]
  },
  {
   "cell_type": "code",
   "execution_count": 1,
   "metadata": {},
   "outputs": [],
   "source": [
    "import os\n",
    "import pandas as pd\n",
    "import numpy as np\n",
    "import sklearn.cluster as cls\n",
    "from sklearn import metrics\n",
    "from sklearn.datasets import make_blobs\n",
    "from sklearn.preprocessing import StandardScaler\n",
    "import matplotlib.pyplot as plt\n",
    "import seaborn as sns"
   ]
  },
  {
   "cell_type": "code",
   "execution_count": 2,
   "metadata": {},
   "outputs": [],
   "source": [
    "os.chdir(\"D:\\projectPy\")"
   ]
  },
  {
   "cell_type": "code",
   "execution_count": 3,
   "metadata": {},
   "outputs": [],
   "source": [
    "def clustDBSCAN(featureArr, params):\n",
    "    clustering  = cls.DBSCAN(eps=params[0], min_samples=params[1]).fit(featureArr)\n",
    "\n",
    "    core_samples_mask = np.zeros_like(clustering.labels_, dtype=bool)\n",
    "    core_samples_mask[clustering.core_sample_indices_] = True\n",
    "    labels = clustering.labels_\n",
    "\n",
    "    # кол-во кластеров, за исключением шумовой сост.\n",
    "    n_clusters_ = len(set(labels)) - (1 if -1 in labels else 0)\n",
    "    n_noise_ = list(labels).count(-1)\n",
    "    \n",
    "    # визуализация \n",
    "    unique_labels = set(labels)\n",
    "    colors = [plt.cm.Spectral(each)\n",
    "              for each in np.linspace(0, 1, len(unique_labels))]\n",
    "\n",
    "    for k, col in zip(unique_labels, colors):\n",
    "        if k == -1:\n",
    "            # черный для шума\n",
    "            col = [0, 0, 0, 1]\n",
    "\n",
    "        class_member_mask = (labels == k)\n",
    "\n",
    "        xy = featureArr[class_member_mask & core_samples_mask]\n",
    "        plt.plot(xy[:, 0], xy[:, 1], 'o', markerfacecolor = tuple(col),\n",
    "                 markeredgecolor='k', markersize = 6)\n",
    "\n",
    "        xy = featureArr[class_member_mask & ~core_samples_mask]\n",
    "        plt.plot(xy[:, 0], xy[:, 1], 'o', markerfacecolor = tuple(col),\n",
    "                 markeredgecolor='k', markersize = 3)\n",
    "\n",
    "    plt.title('Estimated number of clusters: %d' % n_clusters_)\n",
    "    plt.show()\n",
    "    \n",
    "    return labels"
   ]
  },
  {
   "cell_type": "code",
   "execution_count": 4,
   "metadata": {},
   "outputs": [
    {
     "data": {
      "text/html": [
       "<div>\n",
       "<style scoped>\n",
       "    .dataframe tbody tr th:only-of-type {\n",
       "        vertical-align: middle;\n",
       "    }\n",
       "\n",
       "    .dataframe tbody tr th {\n",
       "        vertical-align: top;\n",
       "    }\n",
       "\n",
       "    .dataframe thead th {\n",
       "        text-align: right;\n",
       "    }\n",
       "</style>\n",
       "<table border=\"1\" class=\"dataframe\">\n",
       "  <thead>\n",
       "    <tr style=\"text-align: right;\">\n",
       "      <th></th>\n",
       "      <th>Time</th>\n",
       "      <th>Lg_Time2TimeMax</th>\n",
       "      <th>RCS</th>\n",
       "      <th>Lg_Rcs2RcsMax</th>\n",
       "    </tr>\n",
       "  </thead>\n",
       "  <tbody>\n",
       "    <tr>\n",
       "      <th>0</th>\n",
       "      <td>10.8</td>\n",
       "      <td>-7.01</td>\n",
       "      <td>0.02</td>\n",
       "      <td>-28.20</td>\n",
       "    </tr>\n",
       "    <tr>\n",
       "      <th>1</th>\n",
       "      <td>21.1</td>\n",
       "      <td>-4.11</td>\n",
       "      <td>0.00</td>\n",
       "      <td>-46.72</td>\n",
       "    </tr>\n",
       "    <tr>\n",
       "      <th>2</th>\n",
       "      <td>21.0</td>\n",
       "      <td>-4.13</td>\n",
       "      <td>0.00</td>\n",
       "      <td>-40.10</td>\n",
       "    </tr>\n",
       "    <tr>\n",
       "      <th>3</th>\n",
       "      <td>20.7</td>\n",
       "      <td>-4.19</td>\n",
       "      <td>0.00</td>\n",
       "      <td>-40.30</td>\n",
       "    </tr>\n",
       "    <tr>\n",
       "      <th>4</th>\n",
       "      <td>20.4</td>\n",
       "      <td>-4.25</td>\n",
       "      <td>0.00</td>\n",
       "      <td>-46.72</td>\n",
       "    </tr>\n",
       "  </tbody>\n",
       "</table>\n",
       "</div>"
      ],
      "text/plain": [
       "   Time  Lg_Time2TimeMax   RCS  Lg_Rcs2RcsMax\n",
       "0  10.8            -7.01  0.02         -28.20\n",
       "1  21.1            -4.11  0.00         -46.72\n",
       "2  21.0            -4.13  0.00         -40.10\n",
       "3  20.7            -4.19  0.00         -40.30\n",
       "4  20.4            -4.25  0.00         -46.72"
      ]
     },
     "execution_count": 4,
     "metadata": {},
     "output_type": "execute_result"
    }
   ],
   "source": [
    "workData = pd.read_csv('C001_040_080.csv', names = ['Time', 'Lg_Time2TimeMax',\n",
    "                                                    'RCS', 'Lg_Rcs2RcsMax'], sep = ';', decimal=',')\n",
    "workData.astype(np.float64)\n",
    "workData.head()"
   ]
  },
  {
   "cell_type": "code",
   "execution_count": 5,
   "metadata": {},
   "outputs": [],
   "source": [
    "a = np.array([workData['Time'].values])\n",
    "b = np.array([workData['Lg_Rcs2RcsMax'].values])\n",
    "featureArr = np.vstack((a, b)).T"
   ]
  },
  {
   "cell_type": "code",
   "execution_count": 6,
   "metadata": {},
   "outputs": [
    {
     "data": {
      "image/png": "[encoded data removed]",
      "text/plain": [
       "<Figure size 432x288 with 1 Axes>"
      ]
     },
     "metadata": {
      "needs_background": "light"
     },
     "output_type": "display_data"
    }
   ],
   "source": [
    "params = np.array([3, 11])\n",
    "labels = clustDBSCAN(featureArr, params)"
   ]
  },
  {
   "cell_type": "markdown",
   "metadata": {},
   "source": [
    "## 2 part DBSCAN"
   ]
  },
  {
   "cell_type": "code",
   "execution_count": 7,
   "metadata": {},
   "outputs": [],
   "source": [
    "workData['labels_1'] = labels\n",
    "a2 = np.array([workData['Time'].values[workData['labels_1'] == -1]])\n",
    "b2 = np.array([workData['Lg_Rcs2RcsMax'].values[workData['labels_1'] == -1]])\n",
    "featureArr2 = np.vstack((a2, b2)).T"
   ]
  },
  {
   "cell_type": "code",
   "execution_count": 8,
   "metadata": {},
   "outputs": [
    {
     "data": {
      "image/png": "[encoded data removed]",
      "text/plain": [
       "<Figure size 432x288 with 1 Axes>"
      ]
     },
     "metadata": {
      "needs_background": "light"
     },
     "output_type": "display_data"
    }
   ],
   "source": [
    "paramsDisc = np.array([6, 4])\n",
    "labelsDisc = clustDBSCAN(featureArr2, paramsDisc)"
   ]
  },
  {
   "cell_type": "code",
   "execution_count": 9,
   "metadata": {},
   "outputs": [],
   "source": [
    "workData['labels_2'] = workData['labels_1']\n",
    "nClusters = len(set(labels)) - (1 if -1 in labels else 0)\n",
    "labelsDisc[labelsDisc != -1] = labelsDisc[labelsDisc != -1]  + nClusters\n",
    "workData['labels_2'].values[workData['labels_1'] == -1] = labelsDisc"
   ]
  },
  {
   "cell_type": "code",
   "execution_count": 10,
   "metadata": {},
   "outputs": [
    {
     "data": {
      "text/plain": [
       "<matplotlib.axes._subplots.AxesSubplot at 0x13082d00>"
      ]
     },
     "execution_count": 10,
     "metadata": {},
     "output_type": "execute_result"
    },
    {
     "data": {
      "image/png": "[encoded data removed]",
      "text/plain": [
       "<Figure size 432x288 with 1 Axes>"
      ]
     },
     "metadata": {
      "needs_background": "light"
     },
     "output_type": "display_data"
    }
   ],
   "source": [
    "workData['labels_1'].hist()\n"
   ]
  },
  {
   "cell_type": "code",
   "execution_count": 11,
   "metadata": {},
   "outputs": [
    {
     "data": {
      "text/plain": [
       "<matplotlib.axes._subplots.AxesSubplot at 0x13114e20>"
      ]
     },
     "execution_count": 11,
     "metadata": {},
     "output_type": "execute_result"
    },
    {
     "data": {
      "image/png": "[encoded data removed]",
      "text/plain": [
       "<Figure size 432x288 with 1 Axes>"
      ]
     },
     "metadata": {
      "needs_background": "light"
     },
     "output_type": "display_data"
    }
   ],
   "source": [
    "sns.kdeplot(workData['labels_2'])\n"
   ]
  },
  {
   "cell_type": "code",
   "execution_count": 12,
   "metadata": {},
   "outputs": [
    {
     "data": {
      "image/png": "[encoded data removed]",
      "text/plain": [
       "<Figure size 432x288 with 1 Axes>"
      ]
     },
     "metadata": {
      "needs_background": "light"
     },
     "output_type": "display_data"
    }
   ],
   "source": [
    "coreSamplesMask = np.zeros_like(workData['labels_2'], dtype=bool)\n",
    "coreSamplesMask[workData['labels_2'].values != -1] = True\n",
    "labelsFinal = workData['labels_2'].values\n",
    "\n",
    "# кол-во кластеров, за исключением шумовой сост.\n",
    "nClusters = len(set(labelsFinal)) - (1 if -1 in labelsFinal else 0)\n",
    "    \n",
    "# визуализация \n",
    "uniqueLabels = set(labelsFinal)\n",
    "colors = [plt.cm.Spectral(each)\n",
    "          for each in np.linspace(0, 1, len(uniqueLabels))]\n",
    "\n",
    "for k, col in zip(uniqueLabels, colors):\n",
    "    if k == -1:\n",
    "        # черный для шума\n",
    "        col = [0, 0, 0, 1]\n",
    "\n",
    "    classMemberMmask = (labelsFinal == k)\n",
    "\n",
    "    xy = featureArr[classMemberMmask & coreSamplesMask]\n",
    "    plt.plot(xy[:, 0], xy[:, 1], 'o', markerfacecolor = tuple(col),\n",
    "        markeredgecolor='k', markersize = 5)\n",
    "\n",
    "    xy = featureArr[classMemberMmask & ~coreSamplesMask]\n",
    "    plt.plot(xy[:, 0], xy[:, 1], 'o', markerfacecolor = tuple(col),\n",
    "        markeredgecolor='k', markersize = 3)\n",
    "\n",
    "plt.title('Estimated number of clusters: %d' % nClusters)\n",
    "plt.show()"
   ]
  },
  {
   "cell_type": "markdown",
   "metadata": {},
   "source": [
    "Полигауссовская модель импульсной ЭПР"
   ]
  },
  {
   "cell_type": "code",
   "execution_count": 13,
   "metadata": {},
   "outputs": [],
   "source": [
    "Data4EM = workData.sort_values(by = 'labels_2')"
   ]
  },
  {
   "cell_type": "code",
   "execution_count": 14,
   "metadata": {},
   "outputs": [
    {
     "data": {
      "text/html": [
       "<div>\n",
       "<style scoped>\n",
       "    .dataframe tbody tr th:only-of-type {\n",
       "        vertical-align: middle;\n",
       "    }\n",
       "\n",
       "    .dataframe tbody tr th {\n",
       "        vertical-align: top;\n",
       "    }\n",
       "\n",
       "    .dataframe thead th {\n",
       "        text-align: right;\n",
       "    }\n",
       "</style>\n",
       "<table border=\"1\" class=\"dataframe\">\n",
       "  <thead>\n",
       "    <tr style=\"text-align: right;\">\n",
       "      <th></th>\n",
       "      <th>Time</th>\n",
       "      <th>Lg_Time2TimeMax</th>\n",
       "      <th>RCS</th>\n",
       "      <th>Lg_Rcs2RcsMax</th>\n",
       "      <th>labels_1</th>\n",
       "      <th>labels_2</th>\n",
       "    </tr>\n",
       "  </thead>\n",
       "  <tbody>\n",
       "    <tr>\n",
       "      <th>1793</th>\n",
       "      <td>33.3</td>\n",
       "      <td>-2.12</td>\n",
       "      <td>0.37</td>\n",
       "      <td>-15.85</td>\n",
       "      <td>-1</td>\n",
       "      <td>-1</td>\n",
       "    </tr>\n",
       "    <tr>\n",
       "      <th>1798</th>\n",
       "      <td>15.1</td>\n",
       "      <td>-5.56</td>\n",
       "      <td>14.11</td>\n",
       "      <td>0.00</td>\n",
       "      <td>-1</td>\n",
       "      <td>-1</td>\n",
       "    </tr>\n",
       "    <tr>\n",
       "      <th>1797</th>\n",
       "      <td>16.7</td>\n",
       "      <td>-5.12</td>\n",
       "      <td>4.53</td>\n",
       "      <td>-4.94</td>\n",
       "      <td>-1</td>\n",
       "      <td>-1</td>\n",
       "    </tr>\n",
       "    <tr>\n",
       "      <th>1787</th>\n",
       "      <td>53.2</td>\n",
       "      <td>-0.09</td>\n",
       "      <td>1.70</td>\n",
       "      <td>-9.19</td>\n",
       "      <td>-1</td>\n",
       "      <td>-1</td>\n",
       "    </tr>\n",
       "    <tr>\n",
       "      <th>1796</th>\n",
       "      <td>53.2</td>\n",
       "      <td>-0.09</td>\n",
       "      <td>1.70</td>\n",
       "      <td>-9.19</td>\n",
       "      <td>-1</td>\n",
       "      <td>-1</td>\n",
       "    </tr>\n",
       "  </tbody>\n",
       "</table>\n",
       "</div>"
      ],
      "text/plain": [
       "      Time  Lg_Time2TimeMax    RCS  Lg_Rcs2RcsMax  labels_1  labels_2\n",
       "1793  33.3            -2.12   0.37         -15.85        -1        -1\n",
       "1798  15.1            -5.56  14.11           0.00        -1        -1\n",
       "1797  16.7            -5.12   4.53          -4.94        -1        -1\n",
       "1787  53.2            -0.09   1.70          -9.19        -1        -1\n",
       "1796  53.2            -0.09   1.70          -9.19        -1        -1"
      ]
     },
     "execution_count": 14,
     "metadata": {},
     "output_type": "execute_result"
    }
   ],
   "source": [
    "Data4EM.head()"
   ]
  },
  {
   "cell_type": "code",
   "execution_count": 15,
   "metadata": {},
   "outputs": [],
   "source": [
    "import math\n",
    "def Gaus(Tg):\n",
    "    Scal = math.log(10.0)\n",
    "    Gaus = math.exp(0 - ((Tg)**2) * Scal )\n",
    "    return Gaus"
   ]
  },
  {
   "cell_type": "code",
   "execution_count": 16,
   "metadata": {},
   "outputs": [],
   "source": [
    "RcsImp = dict()\n",
    "TimImp = dict()\n",
    "\n",
    "for ii in range(Data4EM.labels_2.min(), Data4EM.labels_2.max() + 1):\n",
    "    LabelData = Data4EM[Data4EM.labels_2 == ii].loc[:, ['Time', 'RCS']]\n",
    "    Nsa = LabelData.shape[0]\n",
    "    Tau = 0.5\n",
    "    Trcs = 2 * Tau + LabelData.Time.iloc[-1]\n",
    "    dTim = 0.05\n",
    "    Mcs = 1 + int(Trcs / dTim)\n",
    "    Tim = 0.0\n",
    "    \n",
    "    TimeList = list()\n",
    "    for j in range(Mcs):\n",
    "        TimeList.append(Tim)\n",
    "        Tim = Tim + dTim\n",
    "        \n",
    "    Rcs = np.zeros(Mcs)\n",
    "    RcsList = list()\n",
    "    for i in range(Nsa):\n",
    "        Tim = LabelData.Time.iloc[i]\n",
    "        Rcsf = LabelData.RCS.iloc[i]\n",
    "        Jmin = 1 + int((Tim - Tau) / dTim)\n",
    "        Jmax = 1 + int((Tim + Tau) / dTim)\n",
    "        if Jmin < 1: Jmin = 1\n",
    "        if Jmax > Mcs: Jmax = Mcs\n",
    "        for j in range(Jmin, Jmax):\n",
    "            Tgs = (TimeList[j] - Tim) / Tau\n",
    "            Rcs[j] = Rcs[j] + Rcsf * Gaus(Tgs)\n",
    "\n",
    "    for j in range(Mcs):\n",
    "        RcsList.append(Rcs[j])\n",
    "        \n",
    "    NumberCls = str(ii)\n",
    "    RcsImp.update({NumberCls : RcsList}) \n",
    "    TimImp.update({NumberCls : TimeList}) "
   ]
  },
  {
   "cell_type": "code",
   "execution_count": 17,
   "metadata": {},
   "outputs": [],
   "source": [
    "DataImp_Cls = pd.DataFrame.from_dict(RcsImp, orient='index').transpose()\n",
    "TimImp_Cls = pd.DataFrame.from_dict(TimImp, orient='index').transpose()"
   ]
  },
  {
   "cell_type": "code",
   "execution_count": 18,
   "metadata": {},
   "outputs": [
    {
     "data": {
      "text/html": [
       "<div>\n",
       "<style scoped>\n",
       "    .dataframe tbody tr th:only-of-type {\n",
       "        vertical-align: middle;\n",
       "    }\n",
       "\n",
       "    .dataframe tbody tr th {\n",
       "        vertical-align: top;\n",
       "    }\n",
       "\n",
       "    .dataframe thead th {\n",
       "        text-align: right;\n",
       "    }\n",
       "</style>\n",
       "<table border=\"1\" class=\"dataframe\">\n",
       "  <thead>\n",
       "    <tr style=\"text-align: right;\">\n",
       "      <th></th>\n",
       "      <th>-1</th>\n",
       "      <th>0</th>\n",
       "      <th>1</th>\n",
       "      <th>2</th>\n",
       "      <th>3</th>\n",
       "      <th>4</th>\n",
       "    </tr>\n",
       "  </thead>\n",
       "  <tbody>\n",
       "    <tr>\n",
       "      <th>810</th>\n",
       "      <td>NaN</td>\n",
       "      <td>NaN</td>\n",
       "      <td>NaN</td>\n",
       "      <td>NaN</td>\n",
       "      <td>40.50</td>\n",
       "      <td>NaN</td>\n",
       "    </tr>\n",
       "    <tr>\n",
       "      <th>811</th>\n",
       "      <td>NaN</td>\n",
       "      <td>NaN</td>\n",
       "      <td>NaN</td>\n",
       "      <td>NaN</td>\n",
       "      <td>40.55</td>\n",
       "      <td>NaN</td>\n",
       "    </tr>\n",
       "    <tr>\n",
       "      <th>812</th>\n",
       "      <td>NaN</td>\n",
       "      <td>NaN</td>\n",
       "      <td>NaN</td>\n",
       "      <td>NaN</td>\n",
       "      <td>40.60</td>\n",
       "      <td>NaN</td>\n",
       "    </tr>\n",
       "    <tr>\n",
       "      <th>813</th>\n",
       "      <td>NaN</td>\n",
       "      <td>NaN</td>\n",
       "      <td>NaN</td>\n",
       "      <td>NaN</td>\n",
       "      <td>40.65</td>\n",
       "      <td>NaN</td>\n",
       "    </tr>\n",
       "    <tr>\n",
       "      <th>814</th>\n",
       "      <td>NaN</td>\n",
       "      <td>NaN</td>\n",
       "      <td>NaN</td>\n",
       "      <td>NaN</td>\n",
       "      <td>40.70</td>\n",
       "      <td>NaN</td>\n",
       "    </tr>\n",
       "  </tbody>\n",
       "</table>\n",
       "</div>"
      ],
      "text/plain": [
       "     -1   0   1   2      3   4\n",
       "810 NaN NaN NaN NaN  40.50 NaN\n",
       "811 NaN NaN NaN NaN  40.55 NaN\n",
       "812 NaN NaN NaN NaN  40.60 NaN\n",
       "813 NaN NaN NaN NaN  40.65 NaN\n",
       "814 NaN NaN NaN NaN  40.70 NaN"
      ]
     },
     "execution_count": 18,
     "metadata": {},
     "output_type": "execute_result"
    }
   ],
   "source": [
    "TimImp_Cls.tail()"
   ]
  },
  {
   "cell_type": "code",
   "execution_count": 19,
   "metadata": {},
   "outputs": [
    {
     "data": {
      "text/html": [
       "<div>\n",
       "<style scoped>\n",
       "    .dataframe tbody tr th:only-of-type {\n",
       "        vertical-align: middle;\n",
       "    }\n",
       "\n",
       "    .dataframe tbody tr th {\n",
       "        vertical-align: top;\n",
       "    }\n",
       "\n",
       "    .dataframe thead th {\n",
       "        text-align: right;\n",
       "    }\n",
       "</style>\n",
       "<table border=\"1\" class=\"dataframe\">\n",
       "  <thead>\n",
       "    <tr style=\"text-align: right;\">\n",
       "      <th></th>\n",
       "      <th>Noise</th>\n",
       "      <th>Cls0</th>\n",
       "      <th>Cls1</th>\n",
       "      <th>Cls2</th>\n",
       "      <th>Cls3</th>\n",
       "      <th>Cls4</th>\n",
       "      <th>Tim</th>\n",
       "    </tr>\n",
       "  </thead>\n",
       "  <tbody>\n",
       "    <tr>\n",
       "      <th>0</th>\n",
       "      <td>0.0</td>\n",
       "      <td>0.0</td>\n",
       "      <td>0.0</td>\n",
       "      <td>0.0</td>\n",
       "      <td>0.0</td>\n",
       "      <td>0.000000</td>\n",
       "      <td>0.00</td>\n",
       "    </tr>\n",
       "    <tr>\n",
       "      <th>1</th>\n",
       "      <td>0.0</td>\n",
       "      <td>0.0</td>\n",
       "      <td>0.0</td>\n",
       "      <td>0.0</td>\n",
       "      <td>0.0</td>\n",
       "      <td>1.276144</td>\n",
       "      <td>0.05</td>\n",
       "    </tr>\n",
       "    <tr>\n",
       "      <th>2</th>\n",
       "      <td>0.0</td>\n",
       "      <td>0.0</td>\n",
       "      <td>0.0</td>\n",
       "      <td>0.0</td>\n",
       "      <td>0.0</td>\n",
       "      <td>1.431857</td>\n",
       "      <td>0.10</td>\n",
       "    </tr>\n",
       "    <tr>\n",
       "      <th>3</th>\n",
       "      <td>0.0</td>\n",
       "      <td>0.0</td>\n",
       "      <td>0.0</td>\n",
       "      <td>0.0</td>\n",
       "      <td>0.0</td>\n",
       "      <td>1.534262</td>\n",
       "      <td>0.15</td>\n",
       "    </tr>\n",
       "    <tr>\n",
       "      <th>4</th>\n",
       "      <td>0.0</td>\n",
       "      <td>0.0</td>\n",
       "      <td>0.0</td>\n",
       "      <td>0.0</td>\n",
       "      <td>0.0</td>\n",
       "      <td>1.570000</td>\n",
       "      <td>0.20</td>\n",
       "    </tr>\n",
       "  </tbody>\n",
       "</table>\n",
       "</div>"
      ],
      "text/plain": [
       "   Noise  Cls0  Cls1  Cls2  Cls3      Cls4   Tim\n",
       "0    0.0   0.0   0.0   0.0   0.0  0.000000  0.00\n",
       "1    0.0   0.0   0.0   0.0   0.0  1.276144  0.05\n",
       "2    0.0   0.0   0.0   0.0   0.0  1.431857  0.10\n",
       "3    0.0   0.0   0.0   0.0   0.0  1.534262  0.15\n",
       "4    0.0   0.0   0.0   0.0   0.0  1.570000  0.20"
      ]
     },
     "execution_count": 19,
     "metadata": {},
     "output_type": "execute_result"
    }
   ],
   "source": [
    "DataImp_Cls['Tim'] = TimImp_Cls.loc[:, '3']\n",
    "DataImp_Cls.columns = ['Noise', 'Cls0', 'Cls1', 'Cls2', 'Cls3', 'Cls4', 'Tim']\n",
    "\n",
    "DataImp_Cls.fillna(0, inplace=True)\n",
    "DataImp_Cls.head()"
   ]
  },
  {
   "cell_type": "code",
   "execution_count": 20,
   "metadata": {},
   "outputs": [
    {
     "data": {
      "text/plain": [
       "Text(0.5, 0, 'Tim')"
      ]
     },
     "execution_count": 20,
     "metadata": {},
     "output_type": "execute_result"
    },
    {
     "data": {
      "image/png": "[encoded data removed]",
      "text/plain": [
       "<Figure size 864x288 with 1 Axes>"
      ]
     },
     "metadata": {
      "needs_background": "light"
     },
     "output_type": "display_data"
    }
   ],
   "source": [
    "plt.figure(figsize=(12, 4))\n",
    "\n",
    "plt.title(\"Continius parts\")\n",
    "\n",
    "plt.plot(DataImp_Cls['Tim'], DataImp_Cls['Cls0'])\n",
    "plt.plot(DataImp_Cls['Tim'], DataImp_Cls['Cls1'])\n",
    "plt.plot(DataImp_Cls['Tim'], DataImp_Cls['Cls2'])\n",
    "\n",
    "plt.legend(('Cls0', 'Cls1', 'Cls2'),  loc='upper right')\n",
    "plt.grid()\n",
    "plt.xlabel(\"Tim\")"
   ]
  },
  {
   "cell_type": "code",
   "execution_count": 21,
   "metadata": {},
   "outputs": [
    {
     "data": {
      "text/plain": [
       "Text(0.5, 0, 'Tim')"
      ]
     },
     "execution_count": 21,
     "metadata": {},
     "output_type": "execute_result"
    },
    {
     "data": {
      "image/png": "[encoded data removed]",
      "text/plain": [
       "<Figure size 864x288 with 1 Axes>"
      ]
     },
     "metadata": {
      "needs_background": "light"
     },
     "output_type": "display_data"
    }
   ],
   "source": [
    "plt.figure(figsize=(12, 4))\n",
    "\n",
    "plt.title(\"Impuls parts\")\n",
    "\n",
    "plt.plot(DataImp_Cls['Tim'], DataImp_Cls['Cls3'], label=\"Cls3\")\n",
    "plt.plot(DataImp_Cls['Tim'], DataImp_Cls['Cls4'], label=\"Cls4\")\n",
    "\n",
    "plt.legend(('Cls3', 'Cls4'),  loc='upper right')\n",
    "plt.grid()\n",
    "plt.xlabel(\"Tim\")"
   ]
  },
  {
   "cell_type": "code",
   "execution_count": 22,
   "metadata": {},
   "outputs": [
    {
     "data": {
      "text/html": [
       "<div>\n",
       "<style scoped>\n",
       "    .dataframe tbody tr th:only-of-type {\n",
       "        vertical-align: middle;\n",
       "    }\n",
       "\n",
       "    .dataframe tbody tr th {\n",
       "        vertical-align: top;\n",
       "    }\n",
       "\n",
       "    .dataframe thead th {\n",
       "        text-align: right;\n",
       "    }\n",
       "</style>\n",
       "<table border=\"1\" class=\"dataframe\">\n",
       "  <thead>\n",
       "    <tr style=\"text-align: right;\">\n",
       "      <th></th>\n",
       "      <th>Noise</th>\n",
       "      <th>Cls0</th>\n",
       "      <th>Cls1</th>\n",
       "      <th>Cls2</th>\n",
       "      <th>Cls3</th>\n",
       "      <th>Cls4</th>\n",
       "      <th>Tim</th>\n",
       "      <th>Continius_Part</th>\n",
       "    </tr>\n",
       "  </thead>\n",
       "  <tbody>\n",
       "    <tr>\n",
       "      <th>0</th>\n",
       "      <td>0.0</td>\n",
       "      <td>0.0</td>\n",
       "      <td>0.0</td>\n",
       "      <td>0.0</td>\n",
       "      <td>0.0</td>\n",
       "      <td>0.000000</td>\n",
       "      <td>0.00</td>\n",
       "      <td>0.0</td>\n",
       "    </tr>\n",
       "    <tr>\n",
       "      <th>1</th>\n",
       "      <td>0.0</td>\n",
       "      <td>0.0</td>\n",
       "      <td>0.0</td>\n",
       "      <td>0.0</td>\n",
       "      <td>0.0</td>\n",
       "      <td>1.276144</td>\n",
       "      <td>0.05</td>\n",
       "      <td>0.0</td>\n",
       "    </tr>\n",
       "    <tr>\n",
       "      <th>2</th>\n",
       "      <td>0.0</td>\n",
       "      <td>0.0</td>\n",
       "      <td>0.0</td>\n",
       "      <td>0.0</td>\n",
       "      <td>0.0</td>\n",
       "      <td>1.431857</td>\n",
       "      <td>0.10</td>\n",
       "      <td>0.0</td>\n",
       "    </tr>\n",
       "    <tr>\n",
       "      <th>3</th>\n",
       "      <td>0.0</td>\n",
       "      <td>0.0</td>\n",
       "      <td>0.0</td>\n",
       "      <td>0.0</td>\n",
       "      <td>0.0</td>\n",
       "      <td>1.534262</td>\n",
       "      <td>0.15</td>\n",
       "      <td>0.0</td>\n",
       "    </tr>\n",
       "    <tr>\n",
       "      <th>4</th>\n",
       "      <td>0.0</td>\n",
       "      <td>0.0</td>\n",
       "      <td>0.0</td>\n",
       "      <td>0.0</td>\n",
       "      <td>0.0</td>\n",
       "      <td>1.570000</td>\n",
       "      <td>0.20</td>\n",
       "      <td>0.0</td>\n",
       "    </tr>\n",
       "  </tbody>\n",
       "</table>\n",
       "</div>"
      ],
      "text/plain": [
       "   Noise  Cls0  Cls1  Cls2  Cls3      Cls4   Tim  Continius_Part\n",
       "0    0.0   0.0   0.0   0.0   0.0  0.000000  0.00             0.0\n",
       "1    0.0   0.0   0.0   0.0   0.0  1.276144  0.05             0.0\n",
       "2    0.0   0.0   0.0   0.0   0.0  1.431857  0.10             0.0\n",
       "3    0.0   0.0   0.0   0.0   0.0  1.534262  0.15             0.0\n",
       "4    0.0   0.0   0.0   0.0   0.0  1.570000  0.20             0.0"
      ]
     },
     "execution_count": 22,
     "metadata": {},
     "output_type": "execute_result"
    }
   ],
   "source": [
    "DataImp_Cls['Continius_Part'] = DataImp_Cls['Cls0'].values + DataImp_Cls['Cls1'].values \\\n",
    "            + DataImp_Cls['Cls2'].values\n",
    "DataImp_Cls.head()"
   ]
  },
  {
   "cell_type": "code",
   "execution_count": 23,
   "metadata": {},
   "outputs": [
    {
     "data": {
      "text/html": [
       "<div>\n",
       "<style scoped>\n",
       "    .dataframe tbody tr th:only-of-type {\n",
       "        vertical-align: middle;\n",
       "    }\n",
       "\n",
       "    .dataframe tbody tr th {\n",
       "        vertical-align: top;\n",
       "    }\n",
       "\n",
       "    .dataframe thead th {\n",
       "        text-align: right;\n",
       "    }\n",
       "</style>\n",
       "<table border=\"1\" class=\"dataframe\">\n",
       "  <thead>\n",
       "    <tr style=\"text-align: right;\">\n",
       "      <th></th>\n",
       "      <th>Noise</th>\n",
       "      <th>Cls0</th>\n",
       "      <th>Cls1</th>\n",
       "      <th>Cls2</th>\n",
       "      <th>Cls3</th>\n",
       "      <th>Cls4</th>\n",
       "      <th>Tim</th>\n",
       "      <th>Continius_Part</th>\n",
       "      <th>Impuls_Part</th>\n",
       "    </tr>\n",
       "  </thead>\n",
       "  <tbody>\n",
       "    <tr>\n",
       "      <th>0</th>\n",
       "      <td>0.0</td>\n",
       "      <td>0.0</td>\n",
       "      <td>0.0</td>\n",
       "      <td>0.0</td>\n",
       "      <td>0.0</td>\n",
       "      <td>0.000000</td>\n",
       "      <td>0.00</td>\n",
       "      <td>0.0</td>\n",
       "      <td>0.000000</td>\n",
       "    </tr>\n",
       "    <tr>\n",
       "      <th>1</th>\n",
       "      <td>0.0</td>\n",
       "      <td>0.0</td>\n",
       "      <td>0.0</td>\n",
       "      <td>0.0</td>\n",
       "      <td>0.0</td>\n",
       "      <td>1.276144</td>\n",
       "      <td>0.05</td>\n",
       "      <td>0.0</td>\n",
       "      <td>1.276144</td>\n",
       "    </tr>\n",
       "    <tr>\n",
       "      <th>2</th>\n",
       "      <td>0.0</td>\n",
       "      <td>0.0</td>\n",
       "      <td>0.0</td>\n",
       "      <td>0.0</td>\n",
       "      <td>0.0</td>\n",
       "      <td>1.431857</td>\n",
       "      <td>0.10</td>\n",
       "      <td>0.0</td>\n",
       "      <td>1.431857</td>\n",
       "    </tr>\n",
       "    <tr>\n",
       "      <th>3</th>\n",
       "      <td>0.0</td>\n",
       "      <td>0.0</td>\n",
       "      <td>0.0</td>\n",
       "      <td>0.0</td>\n",
       "      <td>0.0</td>\n",
       "      <td>1.534262</td>\n",
       "      <td>0.15</td>\n",
       "      <td>0.0</td>\n",
       "      <td>1.534262</td>\n",
       "    </tr>\n",
       "    <tr>\n",
       "      <th>4</th>\n",
       "      <td>0.0</td>\n",
       "      <td>0.0</td>\n",
       "      <td>0.0</td>\n",
       "      <td>0.0</td>\n",
       "      <td>0.0</td>\n",
       "      <td>1.570000</td>\n",
       "      <td>0.20</td>\n",
       "      <td>0.0</td>\n",
       "      <td>1.570000</td>\n",
       "    </tr>\n",
       "  </tbody>\n",
       "</table>\n",
       "</div>"
      ],
      "text/plain": [
       "   Noise  Cls0  Cls1  Cls2  Cls3      Cls4   Tim  Continius_Part  Impuls_Part\n",
       "0    0.0   0.0   0.0   0.0   0.0  0.000000  0.00             0.0     0.000000\n",
       "1    0.0   0.0   0.0   0.0   0.0  1.276144  0.05             0.0     1.276144\n",
       "2    0.0   0.0   0.0   0.0   0.0  1.431857  0.10             0.0     1.431857\n",
       "3    0.0   0.0   0.0   0.0   0.0  1.534262  0.15             0.0     1.534262\n",
       "4    0.0   0.0   0.0   0.0   0.0  1.570000  0.20             0.0     1.570000"
      ]
     },
     "execution_count": 23,
     "metadata": {},
     "output_type": "execute_result"
    }
   ],
   "source": [
    "DataImp_Cls['Impuls_Part'] = DataImp_Cls['Cls3'].values + DataImp_Cls['Cls4'].values\n",
    "DataImp_Cls.head()"
   ]
  }
 ],
 "metadata": {
  "kernelspec": {
   "display_name": "Python 3",
   "language": "python",
   "name": "python3"
  },
  "language_info": {
   "codemirror_mode": {
    "name": "ipython",
    "version": 3
   },
   "file_extension": ".py",
   "mimetype": "text/x-python",
   "name": "python",
   "nbconvert_exporter": "python",
   "pygments_lexer": "ipython3",
   "version": "3.8.2"
  }
 },
 "nbformat": 4,
 "nbformat_minor": 4
}
